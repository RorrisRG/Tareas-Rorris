{
  "nbformat": 4,
  "nbformat_minor": 0,
  "metadata": {
    "colab": {
      "provenance": []
    },
    "kernelspec": {
      "name": "python3",
      "display_name": "Python 3"
    },
    "language_info": {
      "name": "python"
    }
  },
  "cells": [
    {
      "cell_type": "markdown",
      "source": [
        "# Rodrigo Ruiz\n",
        "## (o Rorris)\n",
        "7mo semestre en Nanotecnología\\\n",
        "**Hobbies/Gustos**\\\n",
        "* Deportes: Futbol, Volley, TKD, MMA\n",
        "* Juegos: Minecraft, Guitar Hero, Roguelikes\n",
        "* Ver series, peliculas, anime\n",
        "\n",
        "[Microscopio para Electrones de Attosegundos](https://www.science.org/doi/10.1126/sciadv.adp5805)\n",
        "\n",
        "<img src=\"https://www.science.org/cms/10.1126/sciadv.adp5805/asset/f2ddf853-4437-4dac-bc36-ec21c75ce829/assets/images/large/sciadv.adp5805-f1.jpg\" width=\"300\" height=\"200\"><img src=\"https://www.science.org/cms/10.1126/sciadv.adp5805/asset/dc22cdfe-10be-4495-a4fc-ca305d586afa/assets/images/large/sciadv.adp5805-f3.jpg\" height=\"200\" width=\"300\">\n",
        "\n",
        "Este artículo presenta un nuevo tipo de microscopia que permite visualizar el desplazamiento de electrones de un átomo a otro, cumpliendo la ecuación y el teorema de aceleración de Bloch:\n",
        "\\begin{align}\n",
        "i\\hbar \\frac{\\partial}{\\partial t} \\rho_{m,n}(\\mathbf{k}, t)\n",
        "&= \\big( E_m(\\mathbf{k}_t) - E_n(\\mathbf{k}_t) \\big)\\, \\rho_{m,n}(\\mathbf{k}, t)\n",
        "+\\mathbf{E}(t) \\cdot \\Big\\{ D(\\mathbf{k}_t), \\rho(\\mathbf{k}, t) \\Big\\}_{m,n}\n",
        "- i \\frac{1 - \\delta_{m,n}}{T_d}\\, \\rho_{m,n}(\\mathbf{k}, t).\n",
        "\\end{align}\n",
        "\n",
        " $k_t = k + \\tfrac{e}{\\hbar} A(t)$\n",
        "\n",
        " Este fenómeno ocurre a femto y attosegundos, de ahí el nombre del aparato.\n",
        "\n",
        " Con este avance podemos calcular de forma extremadamente precisa y optima la conducción de materiales y como ocurre en cada uno, que rutas prefieren los electrones, cuanto tardarán en trasladarse, que interacciones hay dentro y fuera del sistema a causa de los mismos electrones o a causa de condiciones externas/internas."
      ],
      "metadata": {
        "id": "iphRu6uIxhMt"
      }
    }
  ]
}