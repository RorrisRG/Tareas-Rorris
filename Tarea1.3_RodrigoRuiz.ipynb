{
  "cells": [
    {
      "cell_type": "markdown",
      "metadata": {
        "id": "Mf5A9f_fwmWL"
      },
      "source": [
        "# Tarea - Programación lineal"
      ]
    },
    {
      "cell_type": "markdown",
      "metadata": {
        "id": "djK-3lEHwmWN"
      },
      "source": [
        "### Diseño de la Dieta Óptima\n",
        "\n",
        "Se quiere producir comida para gatos de la manera más barata, no obstante se debe también asegurar que se cumplan los datos requeridos de analisis nutricional. Por lo que se quiere variar la cantidad de cada ingrediente para cumplir con los estandares nutricionales. Los requisitos que se tienen es que en $100$ gramos, se deben tener **por lo menos** $8$ gramos de proteína y $6$ gramos de grasa. Así mismo, no se debe tener más de $2$ gramos de fibra y $0.4$ gramos de sal.  \n",
        "\n",
        "Los datos nutricionales se pueden obtener de la siguiente tabla:\n",
        "\n",
        "Ingrediente|Proteína|Grasa|Fibra|Sal\n",
        ":----|----|----|----|----\n",
        "Pollo|  10.0%|08.0%|00.1%|00.2%\n",
        "Carne|  20.0%|10.0%|00.5%|00.5%\n",
        "Cordero|15.0%|11.0%|00.5%|00.7%\n",
        "Arroz|  00.0%|01.0%|10.0%|00.2%\n",
        "Trigo|  04.0%|01.0%|15.0%|00.8%\n",
        "Gel|    00.0%|00.0%|00.0%|00.0%\n",
        "\n",
        "Los costos de cada producto son:\n",
        "\n",
        "Ingrediente|Costo por gramo\n",
        ":----|----\n",
        "Pollo|$\\$$0.013\n",
        "Carne|$\\$$0.008\n",
        "Cordero|$\\$$0.010\n",
        "Arroz|$\\$$0.002\n",
        "Trigo|$\\$$0.005\n",
        "Gel|$\\$$0.001    \n",
        "\n",
        "Lo que se busca optimizar en este caso es la cantidad de productos que se debe utilizar en la comida de gato, minimizando el costo total.\n",
        "\n",
        "Para simplificar la notación use las siguientes variables:\n",
        "\n",
        "+ $x_1:$ Gramos de pollo  \n",
        "+ $x_2:$ Gramos de carne  \n",
        "+ $x_3:$ Gramos de cordero  \n",
        "+ $x_4:$ Gramos de arroz  \n",
        "+ $x_5:$ Gramos de trigo  \n",
        "+ $x_6:$ Gramos de gel\n",
        "\n",
        "La tarea consiste en plantear el problema de programación lineal que permita satisfacer las necesidades alimenticias del gato al tiempo que minimice el costo total y resolverlo con `linprog`."
      ]
    },
    {
      "cell_type": "markdown",
      "source": [
        "#Restricciones:\n",
        "$prot \\geq 0.08$  ->  $0.1x_1 + 0.2x_2 + 0.15x_3 + 0x_4 + 0.04x_5 + 0x_6 \\geq 8$\n",
        "\n",
        "$grasa \\geq 0.06$ ->  $0.08x_1 + 0.1x_2 + 0.11x_3 + 0.01x_4 + 0.01x_5 + 0x_6 \\geq 6$\n",
        "\n",
        "$fba \\leq 0.02$   ->  $0.001x_1 + 0.005x_2 + 0.005x_3 + 0.1x_4 + 0.15x_5 + 0x_6 \\leq 2$\n",
        "\n",
        "$sal \\leq 0.004$  ->  $0.002x_1 + 0.005x_2 + 0.007x_3 + 0.002x_4 + 0.008x_5 + 0x_6 \\leq 0.4$\n",
        "\n",
        "dando:\n",
        "\n",
        " $x_1 + x_2 + x_3 + x_4 + x_5 + x_6 = 100$\n",
        ""
      ],
      "metadata": {
        "id": "fDmO2t7Qx9SU"
      }
    },
    {
      "cell_type": "code",
      "execution_count": 5,
      "metadata": {
        "colab": {
          "base_uri": "https://localhost:8080/"
        },
        "id": "dPG-mZ11wmWN",
        "outputId": "f0e59862-2e1d-48ca-d52b-f07b7bfa2b72"
      },
      "outputs": [
        {
          "output_type": "execute_result",
          "data": {
            "text/plain": [
              "        message: Optimization terminated successfully. (HiGHS Status 7: Optimal)\n",
              "        success: True\n",
              "         status: 0\n",
              "            fun: 0.52\n",
              "              x: [ 0.000e+00  6.000e+01  0.000e+00  0.000e+00  0.000e+00\n",
              "                   4.000e+01]\n",
              "            nit: 2\n",
              "          lower:  residual: [ 0.000e+00  6.000e+01  0.000e+00  0.000e+00\n",
              "                              0.000e+00  4.000e+01]\n",
              "                 marginals: [ 6.400e-03  0.000e+00  1.300e-03  3.000e-04\n",
              "                              3.300e-03  0.000e+00]\n",
              "          upper:  residual: [       inf        inf        inf        inf\n",
              "                                    inf        inf]\n",
              "                 marginals: [ 0.000e+00  0.000e+00  0.000e+00  0.000e+00\n",
              "                              0.000e+00  0.000e+00]\n",
              "          eqlin:  residual: [ 0.000e+00]\n",
              "                 marginals: [ 1.000e-03]\n",
              "        ineqlin:  residual: [ 4.000e+00  0.000e+00  1.700e+00  1.000e-01]\n",
              "                 marginals: [-0.000e+00 -7.000e-02 -0.000e+00 -0.000e+00]\n",
              " mip_node_count: 0\n",
              " mip_dual_bound: 0.0\n",
              "        mip_gap: 0.0"
            ]
          },
          "metadata": {},
          "execution_count": 5
        }
      ],
      "source": [
        "import numpy as np\n",
        "import scipy.optimize as opt\n",
        "\n",
        "c = np.array([0.013, 0.008, 0.010, 0.002, 0.005, 0.001])\n",
        "prot = np.array([0.10, 0.20, 0.15, 0.00, 0.04, 0.00])\n",
        "grasa = np.array([0.08, 0.10, 0.11, 0.01, 0.01, 0.00])\n",
        "fba = np.array([0.001,0.005,0.005,0.10,0.15,0.00])\n",
        "sal = np.array([0.002,0.005,0.007,0.002,0.008,0.00])\n",
        "A = np.array([-prot, -grasa, fba, sal])\n",
        "b = np.array([-8.0, -6.0, 2.0, 0.4])\n",
        "A_eq = np.ones((1,6))\n",
        "b_eq = np.array([100.0])\n",
        "\n",
        "opt.linprog(c, A, b, A_eq, b_eq)\n"
      ]
    },
    {
      "cell_type": "markdown",
      "source": [
        "#Obtenemos que la solución más optima es con 60g de carne y 40g de gel"
      ],
      "metadata": {
        "id": "gsaUx3Y39l2l"
      }
    },
    {
      "cell_type": "markdown",
      "metadata": {
        "id": "AOH9drLmwmWO"
      },
      "source": [
        "### Problema de distribución de energía eléctrica\n",
        "\n",
        "La Comisión Federal de Electricidad **(CFE)** dispone de cuatro plantas de generación para satisfacer la demanda diaria eléctrica en cuatro ciudades, Guadalajara, León y Morelia. Las plantas $1$, $2$ y $3$ pueden satisfacer $80$, $40$ y $60$ millones de KW al día respectivamente. Las necesidades de las ciudades de Guadalajara, León y Morelia son de $70$, $40$ y $70$ millones de Kw al día respectivamente.\n",
        "\n",
        "\n",
        "Los costos asociados al envío de suministro energético por cada millón de Kw entre cada planta y cada ciudad son los registrados en la siguiente tabla.\n",
        "\n",
        "-|Guadalajara|León|Morelia\n",
        ":----|----|----|----\n",
        "Planta 1|5|2|7\n",
        "Planta 2|3|6|6\n",
        "Planta 3|6|1|2\n",
        "\n",
        "Y por último, las restricciones del problema, van a estar dadas por las capacidades de oferta y demanda de cada planta (en millones de KW) y cada ciudad.\n",
        "\n",
        "Para simplificar la notación use las siguientes variables:\n",
        "\n",
        "+ $x_1$: Kw (en millones) distribuidos de la Planta 1 a Guadalajara\n",
        "+ $x_2$: Kw (en millones) distribuidos de la Planta 1 a León\n",
        "+ $x_3$: Kw (en millones) distribuidos de la Planta 1 a Morelia\n",
        "+ $x_4$: Kw (en millones) distribuidos de la Planta 2 a Guadalajara\n",
        "+ $x_5$: Kw (en millones) distribuidos de la Planta 2 a León\n",
        "+ $x_6$: Kw (en millones) distribuidos de la Planta 2 a Morelia\n",
        "+ $x_7$: Kw (en millones) distribuidos de la Planta 3 a Guadalajara\n",
        "+ $x_8$: Kw (en millones) distribuidos de la Planta 3 a León\n",
        "+ $x_9$: Kw (en millones) distribuidos de la Planta 3 a Morelia\n",
        "\n",
        "La tarea consiste en plantear el problema de programación lineal que permita satisfacer las necesidades de todas las ciudades al tiempo que minimice los costos asociados a la distribución y resolverlo con `linprog`."
      ]
    },
    {
      "cell_type": "code",
      "execution_count": 9,
      "metadata": {
        "colab": {
          "base_uri": "https://localhost:8080/"
        },
        "id": "55q3-XF7wmWO",
        "outputId": "fba83139-461e-4a87-8a61-9d262cfbd14b"
      },
      "outputs": [
        {
          "output_type": "execute_result",
          "data": {
            "text/plain": [
              "        message: Optimization terminated successfully. (HiGHS Status 7: Optimal)\n",
              "        success: True\n",
              "         status: 0\n",
              "            fun: 540.0\n",
              "              x: [ 3.000e+01  4.000e+01  1.000e+01  4.000e+01  0.000e+00\n",
              "                   0.000e+00  0.000e+00  0.000e+00  6.000e+01]\n",
              "            nit: 6\n",
              "          lower:  residual: [ 3.000e+01  4.000e+01  1.000e+01  4.000e+01\n",
              "                              0.000e+00  0.000e+00  0.000e+00  0.000e+00\n",
              "                              6.000e+01]\n",
              "                 marginals: [ 0.000e+00  0.000e+00  0.000e+00  0.000e+00\n",
              "                              6.000e+00  1.000e+00  6.000e+00  4.000e+00\n",
              "                              0.000e+00]\n",
              "          upper:  residual: [       inf        inf        inf        inf\n",
              "                                    inf        inf        inf        inf\n",
              "                                    inf]\n",
              "                 marginals: [ 0.000e+00  0.000e+00  0.000e+00  0.000e+00\n",
              "                              0.000e+00  0.000e+00  0.000e+00  0.000e+00\n",
              "                              0.000e+00]\n",
              "          eqlin:  residual: [ 0.000e+00  0.000e+00  0.000e+00]\n",
              "                 marginals: [ 5.000e+00  2.000e+00  7.000e+00]\n",
              "        ineqlin:  residual: [ 0.000e+00  0.000e+00  0.000e+00]\n",
              "                 marginals: [-0.000e+00 -2.000e+00 -5.000e+00]\n",
              " mip_node_count: 0\n",
              " mip_dual_bound: 0.0\n",
              "        mip_gap: 0.0"
            ]
          },
          "metadata": {},
          "execution_count": 9
        }
      ],
      "source": [
        "c_plant = np.array([5, 2, 7, 3, 6, 6, 6, 1, 2])\n",
        "A_plant = np.array([[1, 1, 1, 0, 0, 0, 0, 0, 0],\n",
        "                    [0, 0, 0, 1, 1, 1, 0, 0, 0],\n",
        "                    [0, 0, 0, 0, 0, 0, 1, 1, 1]])\n",
        "b = np.array([80, 40, 60])\n",
        "A_cid = np.array([[1, 0, 0, 1, 0, 0, 1, 0, 0],\n",
        "                  [0, 1, 0, 0, 1, 0, 0, 1, 0],\n",
        "                  [0, 0, 1, 0, 0, 1, 0, 0, 1]])\n",
        "b_cid = np.array([70, 40, 70])\n",
        "opt.linprog(c, A, b, A_cid, b_cid)"
      ]
    },
    {
      "cell_type": "markdown",
      "metadata": {
        "id": "-Og8Kx-jwmWO"
      },
      "source": [
        "### Fábrica de focos\n",
        "\n",
        "Una fábrica produce focos incandesentes y los vende a 4.5 u.m., además de focos ahorradores que vende a 6 u.m. cada uno. La producción está limitada a 400 focos incandesentes y 300 focos ahorradores al día, además de no poder producir más de 500 focos en total.\n",
        "\n",
        "Si la fábrica vende toda su producción, determina cuántos focos incandesentes y cuántos focos ahorradores debe producir para obtener los máximos ingresos posibles y cuáles serían éstos."
      ]
    },
    {
      "cell_type": "code",
      "execution_count": 6,
      "metadata": {
        "colab": {
          "base_uri": "https://localhost:8080/"
        },
        "id": "GhklitITwmWO",
        "outputId": "1d2b7ec3-d089-491e-bc73-41568b8643b8"
      },
      "outputs": [
        {
          "output_type": "execute_result",
          "data": {
            "text/plain": [
              "        message: Optimization terminated successfully. (HiGHS Status 7: Optimal)\n",
              "        success: True\n",
              "         status: 0\n",
              "            fun: -2700.0\n",
              "              x: [ 2.000e+02  3.000e+02]\n",
              "            nit: 1\n",
              "          lower:  residual: [ 2.000e+02  3.000e+02]\n",
              "                 marginals: [ 0.000e+00  0.000e+00]\n",
              "          upper:  residual: [       inf        inf]\n",
              "                 marginals: [ 0.000e+00  0.000e+00]\n",
              "          eqlin:  residual: []\n",
              "                 marginals: []\n",
              "        ineqlin:  residual: [ 2.000e+02  0.000e+00  0.000e+00]\n",
              "                 marginals: [-0.000e+00 -1.500e+00 -4.500e+00]\n",
              " mip_node_count: 0\n",
              " mip_dual_bound: 0.0\n",
              "        mip_gap: 0.0"
            ]
          },
          "metadata": {},
          "execution_count": 6
        }
      ],
      "source": [
        "c = np.array([-4.5, -6.0])\n",
        "A = np.array([[1, 0],\n",
        "              [0, 1],\n",
        "              [1, 1],])\n",
        "b = np.array([400.0, 300.0, 500.0])\n",
        "opt.linprog(c, A, b)\n"
      ]
    },
    {
      "cell_type": "markdown",
      "metadata": {
        "id": "BtYCxSalwmWP"
      },
      "source": [
        "### Problema de compra al mayoreo\n",
        "Un frutero necesita 16 cajas de naranjas, 5 de plátanos y 20 de manzanas. Dos mayoristas pueden suministrarle para satisfacer sus necesidades, pero sólo venden la fruta en contenedores completos. El mayorista A envía en cada contenedor 8 cajas de naranjas, 1 de plátanos y 2 de manzanas. El mayorista B envía en cada contenedor 2 cajas de naranjas, una de plátanos y 7 de manzanas. Sabiendo que cada contenedor del mayorista A tiene un costo de 150 u.m. y el contenedor del mayorista B de 300 u.m., calcular cuántos contenedores habrá de comprar a cada mayorista, con objeto de reducir al mínimo el costo de lo solicitado."
      ]
    },
    {
      "cell_type": "code",
      "execution_count": 7,
      "metadata": {
        "colab": {
          "base_uri": "https://localhost:8080/"
        },
        "id": "mzzzdwP5wmWP",
        "outputId": "4d7906d0-e069-46af-eb90-817d5e4d08c3"
      },
      "outputs": [
        {
          "output_type": "execute_result",
          "data": {
            "text/plain": [
              "        message: Optimization terminated successfully. (HiGHS Status 7: Optimal)\n",
              "        success: True\n",
              "         status: 0\n",
              "            fun: 1050.0\n",
              "              x: [ 3.000e+00  2.000e+00]\n",
              "            nit: 3\n",
              "          lower:  residual: [ 3.000e+00  2.000e+00]\n",
              "                 marginals: [ 0.000e+00  0.000e+00]\n",
              "          upper:  residual: [       inf        inf]\n",
              "                 marginals: [ 0.000e+00  0.000e+00]\n",
              "          eqlin:  residual: []\n",
              "                 marginals: []\n",
              "        ineqlin:  residual: [ 1.200e+01  0.000e+00  0.000e+00]\n",
              "                 marginals: [-0.000e+00 -9.000e+01 -3.000e+01]\n",
              " mip_node_count: 0\n",
              " mip_dual_bound: 0.0\n",
              "        mip_gap: 0.0"
            ]
          },
          "metadata": {},
          "execution_count": 7
        }
      ],
      "source": [
        "c = np.array([150, 300])\n",
        "A = np.array([[-8, -2],\n",
        "              [-1, -1],\n",
        "              [-2, -7],])\n",
        "b = np.array([-16, -5, -20])\n",
        "opt.linprog(c, A, b)"
      ]
    }
  ],
  "metadata": {
    "kernelspec": {
      "display_name": "Python 3 (ipykernel)",
      "language": "python",
      "name": "python3"
    },
    "language_info": {
      "codemirror_mode": {
        "name": "ipython",
        "version": 3
      },
      "file_extension": ".py",
      "mimetype": "text/x-python",
      "name": "python",
      "nbconvert_exporter": "python",
      "pygments_lexer": "ipython3",
      "version": "3.9.12"
    },
    "colab": {
      "provenance": []
    }
  },
  "nbformat": 4,
  "nbformat_minor": 0
}